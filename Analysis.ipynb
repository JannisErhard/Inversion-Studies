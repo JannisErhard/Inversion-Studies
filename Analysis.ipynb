{
 "cells": [
  {
   "cell_type": "code",
   "execution_count": 1,
   "id": "2d25a2ad",
   "metadata": {},
   "outputs": [
    {
     "name": "stdout",
     "output_type": "stream",
     "text": [
      "Python 3.10.12\r\n"
     ]
    }
   ],
   "source": [
    "!python3 --version"
   ]
  },
  {
   "cell_type": "code",
   "execution_count": 2,
   "id": "bf44443f",
   "metadata": {},
   "outputs": [],
   "source": [
    "import numpy as np\n",
    "import matplotlib.pyplot as plt\n",
    "record=np.dtype([('spin', str, 20), ('ao-basis', str, 20),('System', str, 20), ('charge', int), ('unpaired', int), ('oep-basis', str, 20), ('thr_int_fai', np.float32),  ('Eigval', np.float32), ('eig_H_error', np.float32), ('eig_percent_error', np.float32), ('Hatree_Error', np.float32), ('Density_Error', np.float32), ('t_tilde_error', np.float32)])\n",
    "table = np.loadtxt('table', dtype=record)\n",
    "colormap = plt.cm.gist_ncar\n"
   ]
  },
  {
   "cell_type": "code",
   "execution_count": 4,
   "id": "cd3155e5",
   "metadata": {},
   "outputs": [],
   "source": [
    "thresholds, systems = [], []\n",
    "for line in table:\n",
    "    thresholds.append(line[6])\n",
    "    systems.append(line[2]+\"_C:\"+str(line[3])+\"_S:\"+str(line[4])+\"_\"+line[0])\n",
    "\n",
    "thresholds = np.sort(np.unique(thresholds))[::-1]\n",
    "systems = np.sort(np.unique(systems))[::-1]\n"
   ]
  },
  {
   "cell_type": "code",
   "execution_count": 5,
   "id": "85c1c88c",
   "metadata": {},
   "outputs": [],
   "source": [
    "Eigval_Hartree_errors, Eigval_errors, Hartree_errors, Density_errors, RHS_errors, Individual_errors  = {}, {}, {}, {}, {}, {}"
   ]
  },
  {
   "cell_type": "code",
   "execution_count": 6,
   "id": "49cfb826",
   "metadata": {},
   "outputs": [],
   "source": [
    "for system in systems:\n",
    "    Individual_errors[system] = {}\n",
    "    Individual_errors[system]['Error'] = []\n",
    "    Individual_errors[system]['threshold'] = []"
   ]
  },
  {
   "cell_type": "code",
   "execution_count": 7,
   "id": "ad73ddfc",
   "metadata": {},
   "outputs": [],
   "source": [
    "for threshold in thresholds:\n",
    "    Eigval_errors[threshold], Hartree_errors[threshold], Density_errors[threshold], Eigval_Hartree_errors[threshold], RHS_errors[threshold]  = [], [], [], [], []\n"
   ]
  },
  {
   "cell_type": "code",
   "execution_count": 8,
   "id": "2c26af48",
   "metadata": {},
   "outputs": [],
   "source": [
    "for line in table:\n",
    "    Eigval_Hartree_errors[line[6]].append(line[8])\n",
    "    Eigval_errors[line[6]].append(line[9])\n",
    "    Hartree_errors[line[6]].append(line[10])\n",
    "    Density_errors[line[6]].append(line[11])\n",
    "    RHS_errors[line[6]].append(line[12])\n"
   ]
  },
  {
   "cell_type": "code",
   "execution_count": 11,
   "id": "adbd78f1",
   "metadata": {},
   "outputs": [
    {
     "data": {
      "image/png": "[encoded data removed]",
      "text/plain": [
       "<Figure size 432x288 with 1 Axes>"
      ]
     },
     "metadata": {
      "needs_background": "light"
     },
     "output_type": "display_data"
    },
    {
     "data": {
      "image/png": "[encoded data removed]",
      "text/plain": [
       "<Figure size 432x288 with 1 Axes>"
      ]
     },
     "metadata": {
      "needs_background": "light"
     },
     "output_type": "display_data"
    },
    {
     "data": {
      "image/png": "[encoded data removed]",
      "text/plain": [
       "<Figure size 432x288 with 1 Axes>"
      ]
     },
     "metadata": {
      "needs_background": "light"
     },
     "output_type": "display_data"
    },
    {
     "data": {
      "image/png": "[encoded data removed]",
      "text/plain": [
       "<Figure size 432x288 with 1 Axes>"
      ]
     },
     "metadata": {
      "needs_background": "light"
     },
     "output_type": "display_data"
    }
   ],
   "source": [
    "    for threshold in thresholds[::4]:\n",
    "        fig = plt.figure()\n",
    "        ax = fig.add_subplot(1, 1, 1)\n",
    "        plt.hist(RHS_errors[np.float32(threshold)], bins=np.logspace(-8,2,20), alpha = 0.5, label=str(threshold))  # density=False would make counts\n",
    "        ax.set_xscale('log')\n",
    "        plt.legend(loc=\"upper left\")\n",
    "    plt.show()\n"
   ]
  },
  {
   "cell_type": "code",
   "execution_count": null,
   "id": "c03b38b6",
   "metadata": {},
   "outputs": [],
   "source": []
  }
 ],
 "metadata": {
  "kernelspec": {
   "display_name": "Python 3 (ipykernel)",
   "language": "python",
   "name": "python3"
  },
  "language_info": {
   "codemirror_mode": {
    "name": "ipython",
    "version": 3
   },
   "file_extension": ".py",
   "mimetype": "text/x-python",
   "name": "python",
   "nbconvert_exporter": "python",
   "pygments_lexer": "ipython3",
   "version": "3.10.12"
  }
 },
 "nbformat": 4,
 "nbformat_minor": 5
}
